{
 "cells": [
  {
   "cell_type": "markdown",
   "metadata": {},
   "source": [
    "### TensorFlow框架：\n",
    "- 初始化变量\n",
    "- 建立一个会话\n",
    "- 训练的算法\n",
    "- 实现一个神经网络"
   ]
  },
  {
   "cell_type": "markdown",
   "metadata": {},
   "source": [
    "# 1 - 导入TensorFlow库"
   ]
  },
  {
   "cell_type": "code",
   "execution_count": 39,
   "metadata": {
    "scrolled": true
   },
   "outputs": [],
   "source": [
    "import numpy as np\n",
    "import h5py\n",
    "import matplotlib.pyplot as plt\n",
    "import tensorflow as tf\n",
    "from tensorflow.python.framework import ops\n",
    "import tf_utils\n",
    "import time\n",
    "\n",
    "#%matplotlib inline #如果你使用的是jupyter notebook取消注释\n",
    "np.random.seed(1)\n",
    "import os\n",
    "# os.environ['CUDA_VISIBLE_DEVICES'] = '0,1'"
   ]
  },
  {
   "cell_type": "code",
   "execution_count": 40,
   "metadata": {},
   "outputs": [
    {
     "name": "stdout",
     "output_type": "stream",
     "text": [
      "9\n"
     ]
    }
   ],
   "source": [
    "y_hat = tf.constant(36,name=\"y_hat\")            #定义y_hat为固定值36\n",
    "y = tf.constant(39,name=\"y\")                    #定义y为固定值39\n",
    "\n",
    "loss = tf.Variable((y-y_hat)**2,name=\"loss\" )   #为损失函数创建一个变量\n",
    "\n",
    "init = tf.global_variables_initializer()        #运行之后的初始化(ession.run(init))\n",
    "                                                #损失变量将被初始化并准备计算\n",
    "with tf.Session() as session:                   #创建一个session并打印输出\n",
    "    session.run(init)                           #初始化变量\n",
    "    print(session.run(loss))                    #打印损失值\n"
   ]
  },
  {
   "cell_type": "markdown",
   "metadata": {},
   "source": [
    "## 1.1 - 线性函数"
   ]
  },
  {
   "cell_type": "code",
   "execution_count": 41,
   "metadata": {},
   "outputs": [],
   "source": [
    "def linear_function():\n",
    "    \"\"\"\n",
    "    实现一个线性功能：\n",
    "        初始化W，类型为tensor的随机变量，维度为(4,3)\n",
    "        初始化X，类型为tensor的随机变量，维度为(3,1)\n",
    "        初始化b，类型为tensor的随机变量，维度为(4,1)\n",
    "    返回：\n",
    "        result - 运行了session后的结果，运行的是Y = WX + b \n",
    "    \n",
    "    \"\"\"\n",
    "    \n",
    "    np.random.seed(1) #指定随机种子\n",
    "    \n",
    "    X = np.random.randn(3,1)\n",
    "    W = np.random.randn(4,3)\n",
    "    b = np.random.randn(4,1)\n",
    "    \n",
    "    Y = tf.add(tf.matmul(W,X),b) #tf.matmul是矩阵乘法\n",
    "    #Y = tf.matmul(W,X) + b #也可以以写成这样子\n",
    "    \n",
    "    #创建一个session并运行它\n",
    "    sess = tf.Session()\n",
    "    result = sess.run(Y)\n",
    "    \n",
    "    #session使用完毕，关闭它\n",
    "    sess.close()\n",
    "    \n",
    "    return result\n"
   ]
  },
  {
   "cell_type": "code",
   "execution_count": 42,
   "metadata": {},
   "outputs": [
    {
     "name": "stdout",
     "output_type": "stream",
     "text": [
      "result = [[-2.15657382]\n",
      " [ 2.95891446]\n",
      " [-1.08926781]\n",
      " [-0.84538042]]\n"
     ]
    }
   ],
   "source": [
    "print(\"result = \" +  str(linear_function()))"
   ]
  },
  {
   "cell_type": "markdown",
   "metadata": {},
   "source": [
    "## 1.2 - 计算sigmoid"
   ]
  },
  {
   "cell_type": "code",
   "execution_count": 43,
   "metadata": {},
   "outputs": [],
   "source": [
    "def sigmoid(z):\n",
    "    \"\"\"\n",
    "    实现使用sigmoid函数计算z\n",
    "    \n",
    "    参数：\n",
    "        z - 输入的值，标量或矢量\n",
    "    \n",
    "    返回：\n",
    "        result - 用sigmoid计算z的值\n",
    "    \n",
    "    \"\"\"\n",
    "    \n",
    "    #创建一个占位符x，名字叫“x”\n",
    "    x = tf.placeholder(tf.float32,name=\"x\")\n",
    "    \n",
    "    #计算sigmoid(z)\n",
    "    sigmoid = tf.sigmoid(x)\n",
    "    \n",
    "    #创建一个会话，使用方法二\n",
    "    with tf.Session() as sess:\n",
    "        result = sess.run(sigmoid,feed_dict={x:z})\n",
    "        \n",
    "    return result\n"
   ]
  },
  {
   "cell_type": "code",
   "execution_count": 44,
   "metadata": {},
   "outputs": [
    {
     "name": "stdout",
     "output_type": "stream",
     "text": [
      "sigmoid(0) = 0.5\n",
      "sigmoid(12) = 0.9999938\n"
     ]
    }
   ],
   "source": [
    "print (\"sigmoid(0) = \" + str(sigmoid(0)))\n",
    "print (\"sigmoid(12) = \" + str(sigmoid(12)))\n"
   ]
  },
  {
   "cell_type": "markdown",
   "metadata": {},
   "source": [
    "## 1.3 - 计算成本"
   ]
  },
  {
   "cell_type": "markdown",
   "metadata": {},
   "source": [
    "### 独热编码"
   ]
  },
  {
   "cell_type": "code",
   "execution_count": 45,
   "metadata": {},
   "outputs": [],
   "source": [
    "def one_hot_matrix(lables,C):\n",
    "    \"\"\"\n",
    "    创建一个矩阵，其中第i行对应第i个类号，第j列对应第j个训练样本\n",
    "    所以如果第j个样本对应着第i个标签，那么entry (i,j)将会是1\n",
    "    \n",
    "    参数：\n",
    "        lables - 标签向量\n",
    "        C - 分类数\n",
    "        \n",
    "    返回：\n",
    "        one_hot - 独热矩阵\n",
    "    \n",
    "    \"\"\"\n",
    "    \n",
    "    #创建一个tf.constant，赋值为C，名字叫C\n",
    "    C = tf.constant(C,name=\"C\")\n",
    "    \n",
    "    #使用tf.one_hot，注意一下axis\n",
    "    one_hot_matrix = tf.one_hot(indices=lables , depth=C , axis=0)\n",
    "    \n",
    "    #创建一个session\n",
    "    sess = tf.Session()\n",
    "    \n",
    "    #运行session\n",
    "    one_hot = sess.run(one_hot_matrix)\n",
    "    \n",
    "    #关闭session\n",
    "    sess.close()\n",
    "    \n",
    "    return one_hot\n"
   ]
  },
  {
   "cell_type": "code",
   "execution_count": 46,
   "metadata": {},
   "outputs": [
    {
     "name": "stdout",
     "output_type": "stream",
     "text": [
      "[[0. 0. 0. 1. 0. 0.]\n",
      " [1. 0. 0. 0. 0. 1.]\n",
      " [0. 1. 0. 0. 1. 0.]\n",
      " [0. 0. 1. 0. 0. 0.]]\n"
     ]
    }
   ],
   "source": [
    "labels = np.array([1,2,3,0,2,1])\n",
    "one_hot = one_hot_matrix(labels,C=4)\n",
    "print(str(one_hot))\n"
   ]
  },
  {
   "cell_type": "markdown",
   "metadata": {},
   "source": [
    "## 1.5 - 初始化为0和1"
   ]
  },
  {
   "cell_type": "code",
   "execution_count": 47,
   "metadata": {},
   "outputs": [],
   "source": [
    "def ones(shape):\n",
    "    \"\"\"\n",
    "    创建一个维度为shape的变量，其值全为1\n",
    "    \n",
    "    参数：\n",
    "        shape - 你要创建的数组的维度\n",
    "    \n",
    "    返回：\n",
    "        ones - 只包含1的数组    \n",
    "    \"\"\"\n",
    "    \n",
    "    #使用tf.ones()\n",
    "    ones = tf.ones(shape)\n",
    "    \n",
    "    #创建会话\n",
    "    sess = tf.Session()\n",
    "    \n",
    "    #运行会话\n",
    "    ones = sess.run(ones)\n",
    "    \n",
    "    #关闭会话\n",
    "    sess.close()\n",
    "    \n",
    "    return ones\n"
   ]
  },
  {
   "cell_type": "code",
   "execution_count": 48,
   "metadata": {},
   "outputs": [
    {
     "name": "stdout",
     "output_type": "stream",
     "text": [
      "ones = [[1. 1.]\n",
      " [1. 1.]\n",
      " [1. 1.]\n",
      " [1. 1.]]\n"
     ]
    }
   ],
   "source": [
    "print (\"ones = \" + str(ones([4,2])))\n"
   ]
  },
  {
   "cell_type": "markdown",
   "metadata": {},
   "source": [
    "# 2 - 使用TensorFlow构建你的第一个神经网络"
   ]
  },
  {
   "cell_type": "markdown",
   "metadata": {},
   "source": [
    "**我们将会使用TensorFlow构建一个神经网络，需要记住的是实现模型需要做以下两个步骤**\n",
    "\n",
    "- 创建计算图\n",
    "- 运行计算图"
   ]
  },
  {
   "cell_type": "code",
   "execution_count": 49,
   "metadata": {},
   "outputs": [],
   "source": [
    "X_train_orig , Y_train_orig , X_test_orig , Y_test_orig , classes = tf_utils.load_dataset()"
   ]
  },
  {
   "cell_type": "code",
   "execution_count": 50,
   "metadata": {},
   "outputs": [
    {
     "name": "stdout",
     "output_type": "stream",
     "text": [
      "Y = 1\n"
     ]
    },
    {
     "data": {
      "image/png": "[encoded data removed]",
      "text/plain": [
       "<Figure size 432x288 with 1 Axes>"
      ]
     },
     "metadata": {
      "needs_background": "light"
     },
     "output_type": "display_data"
    }
   ],
   "source": [
    "index = 11\n",
    "plt.imshow(X_train_orig[index])\n",
    "print(\"Y = \" + str(np.squeeze(Y_train_orig[:,index])))\n"
   ]
  },
  {
   "cell_type": "code",
   "execution_count": 51,
   "metadata": {},
   "outputs": [
    {
     "name": "stdout",
     "output_type": "stream",
     "text": [
      "训练集样本数 = 1080\n",
      "测试集样本数 = 120\n",
      "X_train.shape: (12288, 1080)\n",
      "Y_train.shape: (6, 1080)\n",
      "X_test.shape: (12288, 120)\n",
      "Y_test.shape: (6, 120)\n"
     ]
    }
   ],
   "source": [
    "X_train_flatten = X_train_orig.reshape(X_train_orig.shape[0],-1).T #每一列就是一个样本\n",
    "X_test_flatten = X_test_orig.reshape(X_test_orig.shape[0],-1).T\n",
    "\n",
    "#归一化数据\n",
    "X_train = X_train_flatten / 255\n",
    "X_test = X_test_flatten / 255\n",
    "\n",
    "#转换为独热矩阵\n",
    "Y_train = tf_utils.convert_to_one_hot(Y_train_orig,6)\n",
    "Y_test = tf_utils.convert_to_one_hot(Y_test_orig,6)\n",
    "\n",
    "print(\"训练集样本数 = \" + str(X_train.shape[1]))\n",
    "print(\"测试集样本数 = \" + str(X_test.shape[1]))\n",
    "print(\"X_train.shape: \" + str(X_train.shape))\n",
    "print(\"Y_train.shape: \" + str(Y_train.shape))\n",
    "print(\"X_test.shape: \" + str(X_test.shape))\n",
    "print(\"Y_test.shape: \" + str(Y_test.shape))\n"
   ]
  },
  {
   "cell_type": "markdown",
   "metadata": {},
   "source": [
    "目前的模型是：LINEAR -> RELU -> LINEAR -> RELU -> LINEAR -> SOFTMAX，SIGMOID输出层已经转换为SOFTMAX。当有两个以上的类时，一个SOFTMAX层将SIGMOID一般化。"
   ]
  },
  {
   "cell_type": "markdown",
   "metadata": {},
   "source": [
    "## 2.1 - 创建placeholders"
   ]
  },
  {
   "cell_type": "code",
   "execution_count": 52,
   "metadata": {},
   "outputs": [],
   "source": [
    "def create_placeholders(n_x,n_y):\n",
    "    \"\"\"\n",
    "    为TensorFlow会话创建占位符\n",
    "    参数：\n",
    "        n_x - 一个实数，图片向量的大小（64*64*3 = 12288）\n",
    "        n_y - 一个实数，分类数（从0到5，所以n_y = 6）\n",
    "    \n",
    "    返回：\n",
    "        X - 一个数据输入的占位符，维度为[n_x, None]，dtype = \"float\"\n",
    "        Y - 一个对应输入的标签的占位符，维度为[n_Y,None]，dtype = \"float\"\n",
    "    \n",
    "    提示：\n",
    "        使用None，因为它让我们可以灵活处理占位符提供的样本数量。事实上，测试/训练期间的样本数量是不同的。\n",
    "    \n",
    "    \"\"\"\n",
    "    \n",
    "    X = tf.placeholder(tf.float32, [n_x, None], name=\"X\")\n",
    "    Y = tf.placeholder(tf.float32, [n_y, None], name=\"Y\")\n",
    "    \n",
    "    return X, Y\n"
   ]
  },
  {
   "cell_type": "code",
   "execution_count": 53,
   "metadata": {},
   "outputs": [
    {
     "name": "stdout",
     "output_type": "stream",
     "text": [
      "X = Tensor(\"X_3:0\", shape=(12288, ?), dtype=float32)\n",
      "Y = Tensor(\"Y_2:0\", shape=(6, ?), dtype=float32)\n"
     ]
    }
   ],
   "source": [
    "X, Y = create_placeholders(12288, 6)\n",
    "print(\"X = \" + str(X))\n",
    "print(\"Y = \" + str(Y))\n"
   ]
  },
  {
   "cell_type": "markdown",
   "metadata": {},
   "source": [
    "## 2.2 - 初始化参数"
   ]
  },
  {
   "cell_type": "markdown",
   "metadata": {},
   "source": [
    "- 初始化tensorflow中的参数，我们将使用Xavier初始化权重和用零来初始化偏差，比如："
   ]
  },
  {
   "cell_type": "code",
   "execution_count": 55,
   "metadata": {},
   "outputs": [
    {
     "ename": "ValueError",
     "evalue": "Variable W1 already exists, disallowed. Did you mean to set reuse=True or reuse=tf.AUTO_REUSE in VarScope? Originally defined at:\n\n  File \"<ipython-input-17-4fbc1e31ccc7>\", line 19, in initialize_parameters\n    W1 = tf.get_variable(\"W1\",[25,12288],initializer=tf.contrib.layers.xavier_initializer(seed=1))\n  File \"<ipython-input-23-fac425f0801f>\", line 33, in model\n    parameters = initialize_parameters()\n  File \"<ipython-input-29-9d33c5e6d1b0>\", line 4, in <module>\n    parameters = model(X_train, Y_train, X_test, Y_test)\n",
     "output_type": "error",
     "traceback": [
      "\u001b[0;31m---------------------------------------------------------------------------\u001b[0m",
      "\u001b[0;31mValueError\u001b[0m                                Traceback (most recent call last)",
      "\u001b[0;32m<ipython-input-55-46d3f6e9c313>\u001b[0m in \u001b[0;36m<module>\u001b[0;34m()\u001b[0m\n\u001b[0;32m----> 1\u001b[0;31m \u001b[0mW1\u001b[0m \u001b[0;34m=\u001b[0m \u001b[0mtf\u001b[0m\u001b[0;34m.\u001b[0m\u001b[0mget_variable\u001b[0m\u001b[0;34m(\u001b[0m\u001b[0;34m\"W1\"\u001b[0m\u001b[0;34m,\u001b[0m \u001b[0;34m[\u001b[0m\u001b[0;36m25\u001b[0m\u001b[0;34m,\u001b[0m\u001b[0;36m12288\u001b[0m\u001b[0;34m]\u001b[0m\u001b[0;34m,\u001b[0m \u001b[0minitializer\u001b[0m \u001b[0;34m=\u001b[0m \u001b[0mtf\u001b[0m\u001b[0;34m.\u001b[0m\u001b[0mcontrib\u001b[0m\u001b[0;34m.\u001b[0m\u001b[0mlayers\u001b[0m\u001b[0;34m.\u001b[0m\u001b[0mxavier_initializer\u001b[0m\u001b[0;34m(\u001b[0m\u001b[0mseed\u001b[0m \u001b[0;34m=\u001b[0m \u001b[0;36m1\u001b[0m\u001b[0;34m)\u001b[0m\u001b[0;34m)\u001b[0m\u001b[0;34m\u001b[0m\u001b[0m\n\u001b[0m\u001b[1;32m      2\u001b[0m \u001b[0mb1\u001b[0m \u001b[0;34m=\u001b[0m \u001b[0mtf\u001b[0m\u001b[0;34m.\u001b[0m\u001b[0mget_variable\u001b[0m\u001b[0;34m(\u001b[0m\u001b[0;34m\"b1\"\u001b[0m\u001b[0;34m,\u001b[0m \u001b[0;34m[\u001b[0m\u001b[0;36m25\u001b[0m\u001b[0;34m,\u001b[0m\u001b[0;36m1\u001b[0m\u001b[0;34m]\u001b[0m\u001b[0;34m,\u001b[0m \u001b[0minitializer\u001b[0m \u001b[0;34m=\u001b[0m \u001b[0mtf\u001b[0m\u001b[0;34m.\u001b[0m\u001b[0mzeros_initializer\u001b[0m\u001b[0;34m(\u001b[0m\u001b[0;34m)\u001b[0m\u001b[0;34m)\u001b[0m\u001b[0;34m\u001b[0m\u001b[0m\n",
      "\u001b[0;32m/anaconda3/envs/tensorflow1/lib/python3.5/site-packages/tensorflow/python/ops/variable_scope.py\u001b[0m in \u001b[0;36mget_variable\u001b[0;34m(name, shape, dtype, initializer, regularizer, trainable, collections, caching_device, partitioner, validate_shape, use_resource, custom_getter, constraint, synchronization, aggregation)\u001b[0m\n\u001b[1;32m   1465\u001b[0m       \u001b[0mconstraint\u001b[0m\u001b[0;34m=\u001b[0m\u001b[0mconstraint\u001b[0m\u001b[0;34m,\u001b[0m\u001b[0;34m\u001b[0m\u001b[0m\n\u001b[1;32m   1466\u001b[0m       \u001b[0msynchronization\u001b[0m\u001b[0;34m=\u001b[0m\u001b[0msynchronization\u001b[0m\u001b[0;34m,\u001b[0m\u001b[0;34m\u001b[0m\u001b[0m\n\u001b[0;32m-> 1467\u001b[0;31m       aggregation=aggregation)\n\u001b[0m\u001b[1;32m   1468\u001b[0m \u001b[0;34m\u001b[0m\u001b[0m\n\u001b[1;32m   1469\u001b[0m \u001b[0;34m\u001b[0m\u001b[0m\n",
      "\u001b[0;32m/anaconda3/envs/tensorflow1/lib/python3.5/site-packages/tensorflow/python/ops/variable_scope.py\u001b[0m in \u001b[0;36mget_variable\u001b[0;34m(self, var_store, name, shape, dtype, initializer, regularizer, reuse, trainable, collections, caching_device, partitioner, validate_shape, use_resource, custom_getter, constraint, synchronization, aggregation)\u001b[0m\n\u001b[1;32m   1215\u001b[0m           \u001b[0mconstraint\u001b[0m\u001b[0;34m=\u001b[0m\u001b[0mconstraint\u001b[0m\u001b[0;34m,\u001b[0m\u001b[0;34m\u001b[0m\u001b[0m\n\u001b[1;32m   1216\u001b[0m           \u001b[0msynchronization\u001b[0m\u001b[0;34m=\u001b[0m\u001b[0msynchronization\u001b[0m\u001b[0;34m,\u001b[0m\u001b[0;34m\u001b[0m\u001b[0m\n\u001b[0;32m-> 1217\u001b[0;31m           aggregation=aggregation)\n\u001b[0m\u001b[1;32m   1218\u001b[0m \u001b[0;34m\u001b[0m\u001b[0m\n\u001b[1;32m   1219\u001b[0m   def _get_partitioned_variable(self,\n",
      "\u001b[0;32m/anaconda3/envs/tensorflow1/lib/python3.5/site-packages/tensorflow/python/ops/variable_scope.py\u001b[0m in \u001b[0;36mget_variable\u001b[0;34m(self, name, shape, dtype, initializer, regularizer, reuse, trainable, collections, caching_device, partitioner, validate_shape, use_resource, custom_getter, constraint, synchronization, aggregation)\u001b[0m\n\u001b[1;32m    525\u001b[0m           \u001b[0mconstraint\u001b[0m\u001b[0;34m=\u001b[0m\u001b[0mconstraint\u001b[0m\u001b[0;34m,\u001b[0m\u001b[0;34m\u001b[0m\u001b[0m\n\u001b[1;32m    526\u001b[0m           \u001b[0msynchronization\u001b[0m\u001b[0;34m=\u001b[0m\u001b[0msynchronization\u001b[0m\u001b[0;34m,\u001b[0m\u001b[0;34m\u001b[0m\u001b[0m\n\u001b[0;32m--> 527\u001b[0;31m           aggregation=aggregation)\n\u001b[0m\u001b[1;32m    528\u001b[0m \u001b[0;34m\u001b[0m\u001b[0m\n\u001b[1;32m    529\u001b[0m   def _get_partitioned_variable(self,\n",
      "\u001b[0;32m/anaconda3/envs/tensorflow1/lib/python3.5/site-packages/tensorflow/python/ops/variable_scope.py\u001b[0m in \u001b[0;36m_true_getter\u001b[0;34m(name, shape, dtype, initializer, regularizer, reuse, trainable, collections, caching_device, partitioner, validate_shape, use_resource, constraint, synchronization, aggregation)\u001b[0m\n\u001b[1;32m    479\u001b[0m           \u001b[0mconstraint\u001b[0m\u001b[0;34m=\u001b[0m\u001b[0mconstraint\u001b[0m\u001b[0;34m,\u001b[0m\u001b[0;34m\u001b[0m\u001b[0m\n\u001b[1;32m    480\u001b[0m           \u001b[0msynchronization\u001b[0m\u001b[0;34m=\u001b[0m\u001b[0msynchronization\u001b[0m\u001b[0;34m,\u001b[0m\u001b[0;34m\u001b[0m\u001b[0m\n\u001b[0;32m--> 481\u001b[0;31m           aggregation=aggregation)\n\u001b[0m\u001b[1;32m    482\u001b[0m \u001b[0;34m\u001b[0m\u001b[0m\n\u001b[1;32m    483\u001b[0m     \u001b[0;31m# Set trainable value based on synchronization value.\u001b[0m\u001b[0;34m\u001b[0m\u001b[0;34m\u001b[0m\u001b[0m\n",
      "\u001b[0;32m/anaconda3/envs/tensorflow1/lib/python3.5/site-packages/tensorflow/python/ops/variable_scope.py\u001b[0m in \u001b[0;36m_get_single_variable\u001b[0;34m(self, name, shape, dtype, initializer, regularizer, partition_info, reuse, trainable, collections, caching_device, validate_shape, use_resource, constraint, synchronization, aggregation)\u001b[0m\n\u001b[1;32m    846\u001b[0m                          \u001b[0;34m\"reuse=tf.AUTO_REUSE in VarScope? \"\u001b[0m\u001b[0;34m\u001b[0m\u001b[0m\n\u001b[1;32m    847\u001b[0m                          \"Originally defined at:\\n\\n%s\" % (\n\u001b[0;32m--> 848\u001b[0;31m                              name, \"\".join(traceback.format_list(tb))))\n\u001b[0m\u001b[1;32m    849\u001b[0m       \u001b[0mfound_var\u001b[0m \u001b[0;34m=\u001b[0m \u001b[0mself\u001b[0m\u001b[0;34m.\u001b[0m\u001b[0m_vars\u001b[0m\u001b[0;34m[\u001b[0m\u001b[0mname\u001b[0m\u001b[0;34m]\u001b[0m\u001b[0;34m\u001b[0m\u001b[0m\n\u001b[1;32m    850\u001b[0m       \u001b[0;32mif\u001b[0m \u001b[0;32mnot\u001b[0m \u001b[0mshape\u001b[0m\u001b[0;34m.\u001b[0m\u001b[0mis_compatible_with\u001b[0m\u001b[0;34m(\u001b[0m\u001b[0mfound_var\u001b[0m\u001b[0;34m.\u001b[0m\u001b[0mget_shape\u001b[0m\u001b[0;34m(\u001b[0m\u001b[0;34m)\u001b[0m\u001b[0;34m)\u001b[0m\u001b[0;34m:\u001b[0m\u001b[0;34m\u001b[0m\u001b[0m\n",
      "\u001b[0;31mValueError\u001b[0m: Variable W1 already exists, disallowed. Did you mean to set reuse=True or reuse=tf.AUTO_REUSE in VarScope? Originally defined at:\n\n  File \"<ipython-input-17-4fbc1e31ccc7>\", line 19, in initialize_parameters\n    W1 = tf.get_variable(\"W1\",[25,12288],initializer=tf.contrib.layers.xavier_initializer(seed=1))\n  File \"<ipython-input-23-fac425f0801f>\", line 33, in model\n    parameters = initialize_parameters()\n  File \"<ipython-input-29-9d33c5e6d1b0>\", line 4, in <module>\n    parameters = model(X_train, Y_train, X_test, Y_test)\n"
     ]
    }
   ],
   "source": [
    "W1 = tf.get_variable(\"W1\", [25,12288], initializer = tf.contrib.layers.xavier_initializer(seed = 1))\n",
    "b1 = tf.get_variable(\"b1\", [25,1], initializer = tf.zeros_initializer())"
   ]
  },
  {
   "cell_type": "code",
   "execution_count": 56,
   "metadata": {},
   "outputs": [],
   "source": [
    "def initialize_parameters():\n",
    "    \"\"\"\n",
    "    初始化神经网络的参数，参数的维度如下：\n",
    "        W1 : [25, 12288]\n",
    "        b1 : [25, 1]\n",
    "        W2 : [12, 25]\n",
    "        b2 : [12, 1]\n",
    "        W3 : [6, 12]\n",
    "        b3 : [6, 1]\n",
    "    \n",
    "    返回：\n",
    "        parameters - 包含了W和b的字典\n",
    "    \n",
    "    \n",
    "    \"\"\"\n",
    "    \n",
    "    tf.set_random_seed(1) #指定随机种子\n",
    "    \n",
    "    W1 = tf.get_variable(\"W1\",[25,12288],initializer=tf.contrib.layers.xavier_initializer(seed=1))\n",
    "    b1 = tf.get_variable(\"b1\",[25,1],initializer=tf.zeros_initializer())\n",
    "    W2 = tf.get_variable(\"W2\", [12, 25], initializer = tf.contrib.layers.xavier_initializer(seed=1))\n",
    "    b2 = tf.get_variable(\"b2\", [12, 1], initializer = tf.zeros_initializer())\n",
    "    W3 = tf.get_variable(\"W3\", [6, 12], initializer = tf.contrib.layers.xavier_initializer(seed=1))\n",
    "    b3 = tf.get_variable(\"b3\", [6, 1], initializer = tf.zeros_initializer())\n",
    "    \n",
    "    parameters = {\"W1\": W1,\n",
    "                  \"b1\": b1,\n",
    "                  \"W2\": W2,\n",
    "                  \"b2\": b2,\n",
    "                  \"W3\": W3,\n",
    "                  \"b3\": b3}\n",
    "    \n",
    "    return parameters\n"
   ]
  },
  {
   "cell_type": "code",
   "execution_count": 57,
   "metadata": {},
   "outputs": [
    {
     "name": "stdout",
     "output_type": "stream",
     "text": [
      "W1 = <tf.Variable 'W1:0' shape=(25, 12288) dtype=float32_ref>\n",
      "b1 = <tf.Variable 'b1:0' shape=(25, 1) dtype=float32_ref>\n",
      "W2 = <tf.Variable 'W2:0' shape=(12, 25) dtype=float32_ref>\n",
      "b2 = <tf.Variable 'b2:0' shape=(12, 1) dtype=float32_ref>\n"
     ]
    }
   ],
   "source": [
    "tf.reset_default_graph() #用于清除默认图形堆栈并重置全局默认图形。 \n",
    "\n",
    "with tf.Session() as sess:\n",
    "    parameters = initialize_parameters()\n",
    "    print(\"W1 = \" + str(parameters[\"W1\"]))\n",
    "    print(\"b1 = \" + str(parameters[\"b1\"]))\n",
    "    print(\"W2 = \" + str(parameters[\"W2\"]))\n",
    "    print(\"b2 = \" + str(parameters[\"b2\"]))\n"
   ]
  },
  {
   "cell_type": "markdown",
   "metadata": {},
   "source": [
    "## 2.3 - 前向传播"
   ]
  },
  {
   "cell_type": "markdown",
   "metadata": {},
   "source": [
    "### 我们将要在TensorFlow中实现前向传播，该函数将接受一个字典参数并完成前向传播，它会用到以下代码：\n",
    "\n",
    "- tf.add(…) ：加法\n",
    "- tf.matmul(… , …) ：矩阵乘法\n",
    "- tf.nn.relu(…) ：Relu激活函数"
   ]
  },
  {
   "cell_type": "code",
   "execution_count": 58,
   "metadata": {},
   "outputs": [],
   "source": [
    "def forward_propagation(X,parameters):\n",
    "    \"\"\"\n",
    "    实现一个模型的前向传播，模型结构为LINEAR -> RELU -> LINEAR -> RELU -> LINEAR -> SOFTMAX\n",
    "    \n",
    "    参数：\n",
    "        X - 输入数据的占位符，维度为（输入节点数量，样本数量）\n",
    "        parameters - 包含了W和b的参数的字典\n",
    "    \n",
    "    返回：\n",
    "        Z3 - 最后一个LINEAR节点的输出\n",
    "    \n",
    "    \"\"\"\n",
    "    \n",
    "    W1 = parameters['W1']\n",
    "    b1 = parameters['b1']\n",
    "    W2 = parameters['W2']\n",
    "    b2 = parameters['b2']\n",
    "    W3 = parameters['W3']\n",
    "    b3 = parameters['b3']\n",
    "    \n",
    "    Z1 = tf.add(tf.matmul(W1,X),b1)        # Z1 = np.dot(W1, X) + b1\n",
    "    #Z1 = tf.matmul(W1,X) + b1             #也可以这样写\n",
    "    A1 = tf.nn.relu(Z1)                    # A1 = relu(Z1)\n",
    "    Z2 = tf.add(tf.matmul(W2, A1), b2)     # Z2 = np.dot(W2, a1) + b2\n",
    "    A2 = tf.nn.relu(Z2)                    # A2 = relu(Z2)\n",
    "    Z3 = tf.add(tf.matmul(W3, A2), b3)     # Z3 = np.dot(W3,Z2) + b3\n",
    "    \n",
    "    \n",
    "    return Z3\n",
    "    \n"
   ]
  },
  {
   "cell_type": "code",
   "execution_count": 59,
   "metadata": {},
   "outputs": [
    {
     "name": "stdout",
     "output_type": "stream",
     "text": [
      "Z3 = Tensor(\"Add_2:0\", shape=(6, ?), dtype=float32)\n"
     ]
    }
   ],
   "source": [
    "tf.reset_default_graph() #用于清除默认图形堆栈并重置全局默认图形。 \n",
    "with tf.Session() as sess:\n",
    "    X,Y = create_placeholders(12288,6)\n",
    "    parameters = initialize_parameters()\n",
    "    Z3 = forward_propagation(X,parameters)\n",
    "    print(\"Z3 = \" + str(Z3))\n"
   ]
  },
  {
   "cell_type": "markdown",
   "metadata": {},
   "source": [
    "## 2.4 - 计算成本"
   ]
  },
  {
   "cell_type": "markdown",
   "metadata": {},
   "source": [
    "tf.reduce_mean(tf.nn.softmax_cross_entropy_with_logits(logits = ..., labels = ...))"
   ]
  },
  {
   "cell_type": "code",
   "execution_count": 60,
   "metadata": {},
   "outputs": [],
   "source": [
    "def compute_cost(Z3,Y):\n",
    "    \"\"\"\n",
    "    计算成本\n",
    "    \n",
    "    参数：\n",
    "        Z3 - 前向传播的结果\n",
    "        Y - 标签，一个占位符，和Z3的维度相同\n",
    "        \n",
    "    返回：\n",
    "        cost - 成本值\n",
    "    \n",
    "    \n",
    "    \"\"\"\n",
    "    logits = tf.transpose(Z3) #转置\n",
    "    labels = tf.transpose(Y)  #转置\n",
    "    \n",
    "    cost = tf.reduce_mean(tf.nn.softmax_cross_entropy_with_logits_v2(logits=logits,labels=labels))\n",
    "    \n",
    "    return cost\n"
   ]
  },
  {
   "cell_type": "code",
   "execution_count": 61,
   "metadata": {},
   "outputs": [
    {
     "name": "stdout",
     "output_type": "stream",
     "text": [
      "cost = Tensor(\"Mean:0\", shape=(), dtype=float32)\n"
     ]
    }
   ],
   "source": [
    "tf.reset_default_graph()\n",
    "\n",
    "with tf.Session() as sess:\n",
    "    X,Y = create_placeholders(12288,6)\n",
    "    parameters = initialize_parameters()\n",
    "    Z3 = forward_propagation(X,parameters)\n",
    "    cost = compute_cost(Z3,Y)\n",
    "    print(\"cost = \" + str(cost))\n"
   ]
  },
  {
   "cell_type": "markdown",
   "metadata": {},
   "source": [
    "## 2.5 - 反向传播&更新参数"
   ]
  },
  {
   "cell_type": "markdown",
   "metadata": {},
   "source": [
    " 得益于编程框架，所有反向传播和参数更新都在1行代码中处理。计算成本函数后，将创建一个“optimizer”对象。 运行tf.session时，必须将此对象与成本函数一起调用，当被调用时，它将使用所选择的方法和学习速率对给定成本进行优化。  \n",
    "   举个例子，对于梯度下降："
   ]
  },
  {
   "cell_type": "markdown",
   "metadata": {},
   "source": [
    "\n",
    "optimizer = tf.train.GradientDescentOptimizer(learning_rate = learning_rate).minimize(cost)\n"
   ]
  },
  {
   "cell_type": "markdown",
   "metadata": {},
   "source": [
    "要进行优化，应该这样做"
   ]
  },
  {
   "cell_type": "markdown",
   "metadata": {},
   "source": [
    "\n",
    "_ , c = sess.run([optimizer,cost],feed_dict={X:mini_batch_X,Y:mini_batch_Y})\n",
    "\n",
    "\n"
   ]
  },
  {
   "cell_type": "markdown",
   "metadata": {},
   "source": [
    "## 2.6 - 构建模型"
   ]
  },
  {
   "cell_type": "code",
   "execution_count": 62,
   "metadata": {},
   "outputs": [],
   "source": [
    "def model(X_train,Y_train,X_test,Y_test,\n",
    "\t\tlearning_rate=0.0001,num_epochs=1500,minibatch_size=32,\n",
    "\t\tprint_cost=True,is_plot=True):\n",
    "    \"\"\"\n",
    "    实现一个三层的TensorFlow神经网络：LINEAR->RELU->LINEAR->RELU->LINEAR->SOFTMAX\n",
    "    \n",
    "    参数：\n",
    "        X_train - 训练集，维度为（输入大小（输入节点数量） = 12288, 样本数量 = 1080）\n",
    "        Y_train - 训练集分类数量，维度为（输出大小(输出节点数量) = 6, 样本数量 = 1080）\n",
    "        X_test - 测试集，维度为（输入大小（输入节点数量） = 12288, 样本数量 = 120）\n",
    "        Y_test - 测试集分类数量，维度为（输出大小(输出节点数量) = 6, 样本数量 = 120）\n",
    "        learning_rate - 学习速率\n",
    "        num_epochs - 整个训练集的遍历次数\n",
    "        mini_batch_size - 每个小批量数据集的大小\n",
    "        print_cost - 是否打印成本，每100代打印一次\n",
    "        is_plot - 是否绘制曲线图\n",
    "    \n",
    "    返回：\n",
    "        parameters - 学习后的参数\n",
    "\n",
    "    \"\"\"\n",
    "    ops.reset_default_graph()                #能够重新运行模型而不覆盖tf变量\n",
    "    tf.set_random_seed(1)\n",
    "    seed = 3\n",
    "    (n_x , m)  = X_train.shape               #获取输入节点数量和样本数\n",
    "    n_y = Y_train.shape[0]                   #获取输出节点数量\n",
    "    costs = []                               #成本集\n",
    "    \n",
    "    #给X和Y创建placeholder\n",
    "    X,Y = create_placeholders(n_x,n_y)\n",
    "    \n",
    "    #初始化参数\n",
    "    parameters = initialize_parameters()\n",
    "    \n",
    "    #前向传播\n",
    "    Z3 = forward_propagation(X,parameters)\n",
    "    \n",
    "    #计算成本\n",
    "    cost = compute_cost(Z3,Y)\n",
    "    \n",
    "    #反向传播，使用Adam优化\n",
    "    optimizer = tf.train.AdamOptimizer(learning_rate=learning_rate).minimize(cost)\n",
    "    \n",
    "    #初始化所有的变量\n",
    "    init = tf.global_variables_initializer()\n",
    "    \n",
    "    #开始会话并计算\n",
    "    with tf.Session() as sess:\n",
    "        #初始化\n",
    "        sess.run(init)\n",
    "        \n",
    "        #正常训练的循环\n",
    "        for epoch in range(num_epochs):\n",
    "            \n",
    "            epoch_cost = 0  #每代的成本\n",
    "            num_minibatches = int(m / minibatch_size)    #minibatch的总数量\n",
    "            seed = seed + 1\n",
    "            minibatches = tf_utils.random_mini_batches(X_train,Y_train,minibatch_size,seed)\n",
    "            \n",
    "            for minibatch in minibatches:\n",
    "                \n",
    "                #选择一个minibatch\n",
    "                (minibatch_X,minibatch_Y) = minibatch\n",
    "                \n",
    "                #数据已经准备好了，开始运行session\n",
    "                _ , minibatch_cost = sess.run([optimizer,cost],feed_dict={X:minibatch_X,Y:minibatch_Y})\n",
    "                \n",
    "                #计算这个minibatch在这一代中所占的误差\n",
    "                epoch_cost = epoch_cost + minibatch_cost / num_minibatches\n",
    "                \n",
    "            #记录并打印成本\n",
    "            ## 记录成本\n",
    "            if epoch % 5 == 0:\n",
    "                costs.append(epoch_cost)\n",
    "                #是否打印：\n",
    "                if print_cost and epoch % 100 == 0:\n",
    "                        print(\"epoch = \" + str(epoch) + \"    epoch_cost = \" + str(epoch_cost))\n",
    "        \n",
    "        #是否绘制图谱\n",
    "        if is_plot:\n",
    "            plt.plot(np.squeeze(costs))\n",
    "            plt.ylabel('cost')\n",
    "            plt.xlabel('iterations (per tens)')\n",
    "            plt.title(\"Learning rate =\" + str(learning_rate))\n",
    "            plt.show()\n",
    "        \n",
    "        #保存学习后的参数\n",
    "        parameters = sess.run(parameters)\n",
    "        print(\"参数已经保存到session。\")\n",
    "        \n",
    "        #计算当前的预测结果\n",
    "        correct_prediction = tf.equal(tf.argmax(Z3),tf.argmax(Y))\n",
    "        \n",
    "        #计算准确率\n",
    "        accuracy = tf.reduce_mean(tf.cast(correct_prediction,\"float\"))\n",
    "        \n",
    "        print(\"训练集的准确率：\", accuracy.eval({X: X_train, Y: Y_train}))\n",
    "        print(\"测试集的准确率:\", accuracy.eval({X: X_test, Y: Y_test}))\n",
    "        \n",
    "        return parameters\n"
   ]
  },
  {
   "cell_type": "code",
   "execution_count": 63,
   "metadata": {},
   "outputs": [],
   "source": [
    "import time\n"
   ]
  },
  {
   "cell_type": "code",
   "execution_count": 64,
   "metadata": {},
   "outputs": [
    {
     "data": {
      "text/plain": [
       "(12288, 1080)"
      ]
     },
     "execution_count": 64,
     "metadata": {},
     "output_type": "execute_result"
    }
   ],
   "source": [
    "X_train.shape"
   ]
  },
  {
   "cell_type": "code",
   "execution_count": 65,
   "metadata": {},
   "outputs": [
    {
     "data": {
      "text/plain": [
       "(6, 1080)"
      ]
     },
     "execution_count": 65,
     "metadata": {},
     "output_type": "execute_result"
    }
   ],
   "source": [
    "Y_train.shape"
   ]
  },
  {
   "cell_type": "code",
   "execution_count": 66,
   "metadata": {},
   "outputs": [
    {
     "data": {
      "text/plain": [
       "(12288, 120)"
      ]
     },
     "execution_count": 66,
     "metadata": {},
     "output_type": "execute_result"
    }
   ],
   "source": [
    "X_test.shape"
   ]
  },
  {
   "cell_type": "code",
   "execution_count": 67,
   "metadata": {},
   "outputs": [
    {
     "data": {
      "text/plain": [
       "(6, 120)"
      ]
     },
     "execution_count": 67,
     "metadata": {},
     "output_type": "execute_result"
    }
   ],
   "source": [
    "Y_test.shape"
   ]
  },
  {
   "cell_type": "code",
   "execution_count": null,
   "metadata": {},
   "outputs": [],
   "source": []
  },
  {
   "cell_type": "code",
   "execution_count": 68,
   "metadata": {},
   "outputs": [
    {
     "name": "stdout",
     "output_type": "stream",
     "text": [
      "epoch = 0    epoch_cost = 1.8557019089207507\n",
      "epoch = 100    epoch_cost = 1.01645776719758\n",
      "epoch = 200    epoch_cost = 0.7331024751518711\n",
      "epoch = 300    epoch_cost = 0.5729153038877428\n",
      "epoch = 400    epoch_cost = 0.46868511266780605\n",
      "epoch = 500    epoch_cost = 0.3810680504098084\n",
      "epoch = 600    epoch_cost = 0.31380907152638293\n",
      "epoch = 700    epoch_cost = 0.2541457947456476\n",
      "epoch = 800    epoch_cost = 0.203801451758905\n",
      "epoch = 900    epoch_cost = 0.16639340488296567\n",
      "epoch = 1000    epoch_cost = 0.1411411744175535\n",
      "epoch = 1100    epoch_cost = 0.10771775256955264\n",
      "epoch = 1200    epoch_cost = 0.08626101741736586\n",
      "epoch = 1300    epoch_cost = 0.06092442064122719\n",
      "epoch = 1400    epoch_cost = 0.05092670847520684\n"
     ]
    },
    {
     "data": {
      "image/png": "[encoded data removed]",
      "text/plain": [
       "<Figure size 432x288 with 1 Axes>"
      ]
     },
     "metadata": {
      "needs_background": "light"
     },
     "output_type": "display_data"
    },
    {
     "name": "stdout",
     "output_type": "stream",
     "text": [
      "参数已经保存到session。\n",
      "训练集的准确率： 0.9990741\n",
      "测试集的准确率: 0.725\n",
      "CPU的执行时间 = 2401 秒\n"
     ]
    }
   ],
   "source": [
    "#开始时间\n",
    "start_time = int(time.time())\n",
    "#开始训练\n",
    "parameters = model(X_train, Y_train, X_test, Y_test)\n",
    "#结束时间\n",
    "end_time = int(time.time())\n",
    "#计算时差\n",
    "print(\"CPU的执行时间 = \" + str(end_time - start_time) + \" 秒\" )\n"
   ]
  },
  {
   "cell_type": "code",
   "execution_count": 69,
   "metadata": {},
   "outputs": [],
   "source": [
    "np.random.seed(1)"
   ]
  },
  {
   "cell_type": "code",
   "execution_count": 70,
   "metadata": {},
   "outputs": [],
   "source": [
    "X = np.random.randn(3,1)\n",
    "W = np.random.randn(4,3)\n",
    "b = np.random.randn(4,1)"
   ]
  },
  {
   "cell_type": "code",
   "execution_count": 71,
   "metadata": {},
   "outputs": [
    {
     "data": {
      "text/plain": [
       "array([[ 1.62434536],\n",
       "       [-0.61175641],\n",
       "       [-0.52817175]])"
      ]
     },
     "execution_count": 71,
     "metadata": {},
     "output_type": "execute_result"
    }
   ],
   "source": [
    "X"
   ]
  },
  {
   "cell_type": "code",
   "execution_count": 33,
   "metadata": {},
   "outputs": [
    {
     "data": {
      "text/plain": [
       "array([[-1.07296862,  0.86540763, -2.3015387 ],\n",
       "       [ 1.74481176, -0.7612069 ,  0.3190391 ],\n",
       "       [-0.24937038,  1.46210794, -2.06014071],\n",
       "       [-0.3224172 , -0.38405435,  1.13376944]])"
      ]
     },
     "execution_count": 33,
     "metadata": {},
     "output_type": "execute_result"
    }
   ],
   "source": [
    "W"
   ]
  },
  {
   "cell_type": "code",
   "execution_count": 35,
   "metadata": {},
   "outputs": [
    {
     "data": {
      "text/plain": [
       "array([[-1.09989127],\n",
       "       [-0.17242821],\n",
       "       [-0.87785842],\n",
       "       [ 0.04221375]])"
      ]
     },
     "execution_count": 35,
     "metadata": {},
     "output_type": "execute_result"
    }
   ],
   "source": [
    "b"
   ]
  },
  {
   "cell_type": "code",
   "execution_count": 36,
   "metadata": {},
   "outputs": [],
   "source": [
    "np.random.seed(1)"
   ]
  },
  {
   "cell_type": "code",
   "execution_count": 37,
   "metadata": {},
   "outputs": [
    {
     "data": {
      "text/plain": [
       "array([[ 1.62434536],\n",
       "       [-0.61175641],\n",
       "       [-0.52817175]])"
      ]
     },
     "execution_count": 37,
     "metadata": {},
     "output_type": "execute_result"
    }
   ],
   "source": [
    "X = np.random.randn(3,1)\n",
    "X"
   ]
  },
  {
   "cell_type": "code",
   "execution_count": 38,
   "metadata": {},
   "outputs": [
    {
     "data": {
      "text/plain": [
       "array([[-1.07296862,  0.86540763, -2.3015387 ],\n",
       "       [ 1.74481176, -0.7612069 ,  0.3190391 ],\n",
       "       [-0.24937038,  1.46210794, -2.06014071],\n",
       "       [-0.3224172 , -0.38405435,  1.13376944]])"
      ]
     },
     "execution_count": 38,
     "metadata": {},
     "output_type": "execute_result"
    }
   ],
   "source": [
    "W = np.random.randn(4,3)\n",
    "W"
   ]
  },
  {
   "cell_type": "code",
   "execution_count": null,
   "metadata": {},
   "outputs": [],
   "source": []
  }
 ],
 "metadata": {
  "kernelspec": {
   "display_name": "Python 3",
   "language": "python",
   "name": "python3"
  },
  "language_info": {
   "codemirror_mode": {
    "name": "ipython",
    "version": 3
   },
   "file_extension": ".py",
   "mimetype": "text/x-python",
   "name": "python",
   "nbconvert_exporter": "python",
   "pygments_lexer": "ipython3",
   "version": "3.5.6"
  }
 },
 "nbformat": 4,
 "nbformat_minor": 2
}
